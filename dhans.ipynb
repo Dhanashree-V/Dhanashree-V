{
  "nbformat": 4,
  "nbformat_minor": 0,
  "metadata": {
    "colab": {
      "name": "dhans.ipynb",
      "provenance": [],
      "authorship_tag": "ABX9TyPPwBoho0u136+7C7rPUSZt",
      "include_colab_link": true
    },
    "kernelspec": {
      "name": "python3",
      "display_name": "Python 3"
    },
    "language_info": {
      "name": "python"
    }
  },
  "cells": [
    {
      "cell_type": "markdown",
      "metadata": {
        "id": "view-in-github",
        "colab_type": "text"
      },
      "source": [
        "<a href=\"https://colab.research.google.com/github/Dhanashree-V/Dhanashree-V/blob/main/dhans.ipynb\" target=\"_parent\"><img src=\"https://colab.research.google.com/assets/colab-badge.svg\" alt=\"Open In Colab\"/></a>"
      ]
    },
    {
      "cell_type": "code",
      "metadata": {
        "colab": {
          "base_uri": "https://localhost:8080/"
        },
        "id": "qfoQ3WgVyw8N",
        "outputId": "0e941d6c-e3a9-4e88-fbdc-a9850f94be70"
      },
      "source": [
        "import requests\n",
        "\n",
        "from datetime import datetime\n",
        "\n",
        "\n",
        "api_key='a46bd6d56471ac513f23491b6f9134ef'\n",
        "location=input(\"Enter the city name: \")\n",
        "\n",
        "complete_api_link=\"https://api.openweathermap.org/data/2.5/weather?q=\"+location+\"&appid=\"+api_key\n",
        "api_link=requests.get(complete_api_link)\n",
        "api_data=api_link.json()\n",
        "\n",
        "#create variables to store and display data\n",
        "temp_city = ((api_data['main']['temp']) -273.15)\n",
        "weather_desc = api_data['weather'][0]['description']\n",
        "hmdt=api_data['main']['humidity']\n",
        "wind_spd = api_data['wind']['speed']\n",
        "date_time = datetime.now().strftime(\"%d %b %y | %I:%M:%S %P\")\n",
        "\n",
        "print(\"-----------------------------------------------------------\")\n",
        "print(\"Weather stats for - {} || {}\".format(location.upper(),date_time))\n",
        "print(\"-----------------------------------------------------------\")\n",
        "\n",
        "print(\"Current temperature is: {:.2f} deg C\".format(temp_city))\n",
        "print(\"Current weather des   :\",weather_desc)\n",
        "print(\"Current Humidity      :\",hmdt, '%')\n",
        "print(\"Current windn speed   :\",wind_spd,'kmph')\n"
      ],
      "execution_count": 9,
      "outputs": [
        {
          "output_type": "stream",
          "text": [
            "Enter the city name: kanchipuram\n",
            "-----------------------------------------------------------\n",
            "Weather stats for - KANCHIPURAM || 23 Jun 21 | 02:44:31 pm\n",
            "-----------------------------------------------------------\n",
            "Current temperature is: 32.53 deg C\n",
            "Current weather des   : overcast clouds\n",
            "Current Humidity      : 56 %\n",
            "Current windn speed   : 6.89 kmph\n"
          ],
          "name": "stdout"
        }
      ]
    }
  ]
}